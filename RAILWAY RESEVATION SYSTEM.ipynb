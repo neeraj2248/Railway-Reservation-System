{
 "cells": [
  {
   "cell_type": "code",
   "execution_count": 20,
   "id": "043e0dc4-bfcf-4158-b903-79484b60ffcd",
   "metadata": {},
   "outputs": [],
   "source": [
    "import mysql.connector\n",
    "mycon = mysql.connector.connect(user='root', password='123456789',\n",
    "                              host='localhost',\n",
    "                              database='railway',\n",
    "                              auth_plugin='mysql_native_password')\n",
    "cursor = mycon.cursor()\n",
    "mycon.autocommit=True\n"
   ]
  },
  {
   "cell_type": "code",
   "execution_count": 10,
   "id": "e5497f69-7d44-4aaf-916f-4fd713c1be80",
   "metadata": {},
   "outputs": [],
   "source": [
    "s1 = \"create database if not exists railway\"\n",
    "cursor.execute(s1)\n",
    "s1 = \"use railway\"\n",
    "cursor.execute(s1)\n"
   ]
  },
  {
   "cell_type": "code",
   "execution_count": 33,
   "id": "3566b09b-a8fe-4cec-bfab-6d898b202afc",
   "metadata": {},
   "outputs": [],
   "source": [
    "\n",
    "s1 = \"create table if not exists railway(name varchar(100),\\\n",
    "    phno varchar(15)primary key,age int(4),gender varchar(50),\\\n",
    "    from_f varchar(100),to_t varchar(100),date_d varchar(20))\"\n",
    "\n",
    "cursor.execute(s1)\n",
    "s1 = \"create table if not exists user_accounts(fname varchar(100),\\\n",
    "    lname varchar(100),user_name varchar(100),\\\n",
    "    passwod varchar(100)primary key,\\\n",
    "    phno varchar(15),gender varchar(50),dob varchar(50),age varchar(4))\"\n",
    "\n",
    "cursor.execute(s1)"
   ]
  },
  {
   "cell_type": "code",
   "execution_count": 44,
   "id": "44c22f18-0a50-4314-9efd-c0f1976a865e",
   "metadata": {},
   "outputs": [],
   "source": [
    "def ticket_booking():\n",
    "    nm = input(\"enter your name:-\")\n",
    "    phno = input(\"enter your phone number:-\")\n",
    "    age = int(input(\"enter your age:-\"))\n",
    "    print('M=MALE','\\t','F=FEMALE','\\t','N=NOT TO MENTION')\n",
    "    gender = input(\"enter your gender:-\")\n",
    "    Gender = gender.upper()\n",
    "    fr = input(\"enter your starting point:-\")\n",
    "    to = input(\"enter your destination:-\")\n",
    "    date1 = input(\"enter date(dd):-\")\n",
    "    date2 = input(\"enter month(mm):-\")\n",
    "    date3 = input(\"enter year(yyyy):-\")\n",
    "    date = date1+'/'+date2+'/'+date3\n",
    "    a = {'M':'MALE','F':'FEMALE','N':'NOT TO MENTION'}\n",
    "    v = a[Gender]\n",
    "    s1 = \"insert into railway values('{}','{}','{}','{}','{}','{}','{}')\".format(nm,phno,age,v,fr,to,date)\n",
    "    cursor.execute(s1)\n",
    "    print(\"\\t\\t\\t\\t--------------------------------------------\")\n",
    "    print(\"\\t\\t\\t\\t\\t\\t TICKET BOOCKED SUCCESSFULLY\")\n",
    "    print(\"\\t\\t\\t\\t--------------------------------------------\")\n",
    "\n",
    "\n",
    "def ticket_checking():\n",
    "    phno = int(input(\"Enter Your Number:-\"))\n",
    "    try:\n",
    "        s1 = (\"select * from railway where phno='{}'\".format(phno))\n",
    "        cursor.execute(s1)\n",
    "        data = cursor.fetchone()\n",
    "        Data = list(data)\n",
    "        a = ['NAME','PHONE NUMBER','AGE','GENDER','STARTING POINT','DESTINATION','DATE']\n",
    "        print(a[0],':::::',Data[0])\n",
    "        print(a[1],':::::',Data[1])\n",
    "        print(a[2],':::::',Data[2])\n",
    "        print(a[3],':::::',Data[3])\n",
    "        print(a[4],':::::',Data[4])\n",
    "        print(a[5],':::::',Data[5])\n",
    "        print(a[6],':::::',Data[6])\n",
    "    except:\n",
    "        print(\"TICKET DOES NOT EXISTS\")\n",
    "\n",
    "\n",
    "def ticket_cancelling():\n",
    "    phno = int(input(\"Enter Your Number:-\"))\n",
    "    s = (\"select phno from railway where phno='{}'\".format(phno))\n",
    "    cursor.execute(s)\n",
    "    data = cursor.fetchone()\n",
    "    if data[0]==phno:\n",
    "        s1=\"delete from railway where phno=phno\"\n",
    "        cursor.execute(s1)\n",
    "        print(\"\\t\\t\\t\\t--------------------------------------------\")\n",
    "        print(\"\\t\\t\\t\\t\\t\\t TICKET CANCEL SUCCESSFULLY\")\n",
    "        print(\"\\t\\t\\t\\t--------------------------------------------\")\n",
    "        main()\n",
    "    else:\n",
    "        print(\"TICKET DOES NOT EXIST or WRONG ENTRY\")\n",
    "\n",
    "\n",
    "def display():\n",
    "    a = input(\"USER NAME:-\")\n",
    "    b = input(\"PASS WORD:-\")\n",
    "    try:\n",
    "        s1 = \"select user_name from user_accounts where passwod='{}'\".format(b)\n",
    "        c1 = \"select fname,lname from user_accounts where passwod='{}'\".format(b)\n",
    "        cursor.execute(c1)\n",
    "        data1 = cursor.fetchall()[0]\n",
    "        data1 = list(data1)\n",
    "        data1 = data1[0]+''+data1[1]\n",
    "        cursor.execute(s1)\n",
    "        data = cursor.fetchall()[0]\n",
    "        data = list(data)\n",
    "        if data[0]==a:\n",
    "            x = ['FIRST NAME','LAST NAME','PHONE NUMBER','GENDER','DATE OF BIRTH','AGE']\n",
    "            s1 = \"select fname,lname,phno,gender,dob,age from user_accounts where passwod='{}'\".format(b)\n",
    "            cursor.execute(s1)\n",
    "            data = cursor.fetchall()[0]\n",
    "            data = list(data)\n",
    "            print(x[0],':::::',data[0])\n",
    "            print(x[1],':::::',data[1])\n",
    "            print(x[2],':::::',data[2])\n",
    "            print(x[3],':::::',data[3])\n",
    "            print(x[4],':::::',data[4])\n",
    "            print(x[5],':::::',data[5])\n",
    "        else:\n",
    "            return False\n",
    "    except:\n",
    "        print(\"ACCOUNT DOES NOT EXISTS\")"
   ]
  },
  {
   "cell_type": "code",
   "execution_count": 43,
   "id": "cfdb3cc3-66c7-4b80-89da-d04164fc7d60",
   "metadata": {},
   "outputs": [],
   "source": [
    "def main():\n",
    "    while True:\n",
    "        print(\"\\t\\t\\t\\t--------------------------------------------\")\n",
    "        print(\"\\t\\t\\t\\t\\t\\t 1.TICKET BOOKING\")\n",
    "        print(\"\\t\\t\\t\\t\\t\\t 2.TICKET CHECKING\")\n",
    "        print(\"\\t\\t\\t\\t\\t\\t 3.TICKET CANCELLING\")\n",
    "        print(\"\\t\\t\\t\\t\\t\\t 4.ACCOUNT DETAILS\")\n",
    "        print(\"\\t\\t\\t\\t\\t\\t 5.LOG OUT\")\n",
    "        print(\"\\t\\t\\t\\t--------------------------------------------\")\n",
    "\n",
    "        ch = int(input(\"\\t\\t\\tENTER YOUR CHOICE:-\"))\n",
    "        if ch==1:\n",
    "            ticket_booking()\n",
    "    \n",
    "        elif ch==2:\n",
    "            ticket_checking()\n",
    "\n",
    "        \n",
    "        elif ch==3:\n",
    "            ticket_cancelling()\n",
    "\n",
    "\n",
    "        elif ch==4:\n",
    "            display()\n",
    "            \n",
    "        elif ch==5:\n",
    "            print(\"\\t\\t\\t\\t--------------------------------------------\")\n",
    "            print(\"\\t\\t\\t\\t\\t\\t THANK YOU\")\n",
    "            print(\"\\t\\t\\t\\t--------------------------------------------\")\n",
    "            break\n",
    "        else:\n",
    "            print(\"ERROR 404: PAGE NOT FOUND\")"
   ]
  },
  {
   "cell_type": "code",
   "execution_count": 35,
   "id": "c0f2dc6a-c648-4bb7-a5e4-511cd667f980",
   "metadata": {},
   "outputs": [],
   "source": [
    "def signin():\n",
    "    a=input(\"USER NAME:-\")\n",
    "    b=input(\"PASS WORD:-\")\n",
    "    s=\"select user_name from user_accounts where passwod='{}'\".format(b)\n",
    "    cursor.execute(s)\n",
    "    data = cursor.fetchone()\n",
    "    if data[0]==a:\n",
    "        print(\"\\t\\t\\t\\t--------------------------------------------\")\n",
    "        print(\"\\t\\t\\t\\t\\t\\t LOGNIN SUCCESSEFULLY\")\n",
    "        print(\"\\t\\t\\t\\t--------------------------------------------\")\n",
    "        main()\n",
    "    else:\n",
    "        print('ACCOUNT DOES NOT EXIST or WRONG ENTRY ')\n",
    "\n",
    "\n",
    "def signup():\n",
    "    f = input('FIRST NAME:-')\n",
    "    l = input('LAST NAME:-')\n",
    "    a = input(\"USER NAME:-\")\n",
    "    b = input(\"PASS WORD:-\")\n",
    "    c = input('RE-ENTER YOUR PASSWORD:-')\n",
    "    ph = input('PHONE NUMBER:-')\n",
    "    print('M=MALE','\\n','F=FEMALE','\\n','N=NOT TO MENTION')\n",
    "    gen = input(\"ENTER YOUR GENDER:-\")\n",
    "    print(\"ENTER YOUR DATE OF BRITH\")\n",
    "    d=input(\"DD:-\")\n",
    "    o=input(\"MM:-\")\n",
    "    p=input(\"YYYY:-\")\n",
    "    dob = d+'/'+o+'/'+p\n",
    "    age = input(\"YOUR AGE:-\")\n",
    "    v = {'m':'MALE','f':'FEMALE','n':'NOT TO MENTION'}\n",
    "    if b==c:\n",
    "        c1 = \"insert into user_accounts values('{}','{}','{}','{}','{}','{}','{}','{}')\".format(f,l,a,b,ph,v[gen],dob,age)\n",
    "        cursor.execute(c1)\n",
    "        print(\"\\t\\t\\t\\t--------------------------------------------\")\n",
    "        print(\"\\t\\t\\t\\t\\t\\t SIGN UP SUCCESSEFULLY\")\n",
    "        print(\"\\t\\t\\t\\t--------------------------------------------\")\n",
    "        main()\n",
    "    else:\n",
    "        print('BOTH PASSWORDS ARE NOT MATCHING')\n",
    "\n"
   ]
  },
  {
   "cell_type": "code",
   "execution_count": 45,
   "id": "cb64c4a2-e108-4ddd-8995-ca84d1f34b91",
   "metadata": {},
   "outputs": [
    {
     "name": "stdout",
     "output_type": "stream",
     "text": [
      "______________________________________________________________________________________________________________________\n",
      "\t\t\t\t WELCOME TO ONLINE RAILWAY RESEVATION SYSTEM\n",
      "\t\t\t\t--------------------------------------------\n",
      "\t\t\t\t\t\t1.SIGN IN\n",
      "\t\t\t\t\t\t2.SIGN UP\n",
      "\t\t\t\t\t\t3.EXIT\n",
      "\t\t\t\t--------------------------------------------\n",
      "____________________________________________________________________________________________________________________\n"
     ]
    },
    {
     "name": "stdin",
     "output_type": "stream",
     "text": [
      "\t\t\tENTER YOUR CHOICE:- 1\n",
      "USER NAME:- ram\n",
      "PASS WORD:- 123456789\n"
     ]
    },
    {
     "name": "stdout",
     "output_type": "stream",
     "text": [
      "\t\t\t\t--------------------------------------------\n",
      "\t\t\t\t\t\t LOGNIN SUCCESSEFULLY\n",
      "\t\t\t\t--------------------------------------------\n",
      "\t\t\t\t--------------------------------------------\n",
      "\t\t\t\t\t\t 1.TICKET BOOKING\n",
      "\t\t\t\t\t\t 2.TICKET CHECKING\n",
      "\t\t\t\t\t\t 3.TICKET CANCELLING\n",
      "\t\t\t\t\t\t 4.ACCOUNT DETAILS\n",
      "\t\t\t\t\t\t 5.LOG OUT\n",
      "\t\t\t\t--------------------------------------------\n"
     ]
    },
    {
     "name": "stdin",
     "output_type": "stream",
     "text": [
      "\t\t\tENTER YOUR CHOICE:- 4\n",
      "USER NAME:- ram\n",
      "PASS WORD:- 123456789\n"
     ]
    },
    {
     "name": "stdout",
     "output_type": "stream",
     "text": [
      "FIRST NAME ::::: neeraj\n",
      "LAST NAME ::::: dhakar\n",
      "PHONE NUMBER ::::: 8827287233\n",
      "GENDER ::::: MALE\n",
      "DATE OF BIRTH ::::: 23/09/1998\n",
      "AGE ::::: 25\n",
      "\t\t\t\t--------------------------------------------\n",
      "\t\t\t\t\t\t 1.TICKET BOOKING\n",
      "\t\t\t\t\t\t 2.TICKET CHECKING\n",
      "\t\t\t\t\t\t 3.TICKET CANCELLING\n",
      "\t\t\t\t\t\t 4.ACCOUNT DETAILS\n",
      "\t\t\t\t\t\t 5.LOG OUT\n",
      "\t\t\t\t--------------------------------------------\n"
     ]
    },
    {
     "name": "stdin",
     "output_type": "stream",
     "text": [
      "\t\t\tENTER YOUR CHOICE:- 1\n",
      "enter your name:- prashant\n",
      "enter your phone number:- 9907456668\n",
      "enter your age:- 25\n"
     ]
    },
    {
     "name": "stdout",
     "output_type": "stream",
     "text": [
      "M=MALE \t F=FEMALE \t N=NOT TO MENTION\n"
     ]
    },
    {
     "name": "stdin",
     "output_type": "stream",
     "text": [
      "enter your gender:- m\n",
      "enter your starting point:- Gwalior\n",
      "enter your destination:- Dehli\n",
      "enter date(dd):- 19\n",
      "enter month(mm):- 12\n",
      "enter year(yyyy):- 2023\n"
     ]
    },
    {
     "name": "stdout",
     "output_type": "stream",
     "text": [
      "\t\t\t\t--------------------------------------------\n",
      "\t\t\t\t\t\t TICKET BOOCKED SUCCESSFULLY\n",
      "\t\t\t\t--------------------------------------------\n",
      "\t\t\t\t--------------------------------------------\n",
      "\t\t\t\t\t\t 1.TICKET BOOKING\n",
      "\t\t\t\t\t\t 2.TICKET CHECKING\n",
      "\t\t\t\t\t\t 3.TICKET CANCELLING\n",
      "\t\t\t\t\t\t 4.ACCOUNT DETAILS\n",
      "\t\t\t\t\t\t 5.LOG OUT\n",
      "\t\t\t\t--------------------------------------------\n"
     ]
    },
    {
     "name": "stdin",
     "output_type": "stream",
     "text": [
      "\t\t\tENTER YOUR CHOICE:- 2\n",
      "Enter Your Number:- 8319946735\n"
     ]
    },
    {
     "name": "stdout",
     "output_type": "stream",
     "text": [
      "NAME ::::: naveen ghai\n",
      "PHONE NUMBER ::::: 8319946735\n",
      "AGE ::::: 24\n",
      "GENDER ::::: MALE\n",
      "STARTING POINT ::::: gwalior\n",
      "DESTINATION ::::: bhopal\n",
      "DATE ::::: 18/12/2023\n",
      "\t\t\t\t--------------------------------------------\n",
      "\t\t\t\t\t\t 1.TICKET BOOKING\n",
      "\t\t\t\t\t\t 2.TICKET CHECKING\n",
      "\t\t\t\t\t\t 3.TICKET CANCELLING\n",
      "\t\t\t\t\t\t 4.ACCOUNT DETAILS\n",
      "\t\t\t\t\t\t 5.LOG OUT\n",
      "\t\t\t\t--------------------------------------------\n"
     ]
    },
    {
     "name": "stdin",
     "output_type": "stream",
     "text": [
      "\t\t\tENTER YOUR CHOICE:- 2\n",
      "Enter Your Number:- 9907456668\n"
     ]
    },
    {
     "name": "stdout",
     "output_type": "stream",
     "text": [
      "NAME ::::: prashant\n",
      "PHONE NUMBER ::::: 9907456668\n",
      "AGE ::::: 25\n",
      "GENDER ::::: MALE\n",
      "STARTING POINT ::::: Gwalior\n",
      "DESTINATION ::::: Dehli\n",
      "DATE ::::: 19/12/2023\n",
      "\t\t\t\t--------------------------------------------\n",
      "\t\t\t\t\t\t 1.TICKET BOOKING\n",
      "\t\t\t\t\t\t 2.TICKET CHECKING\n",
      "\t\t\t\t\t\t 3.TICKET CANCELLING\n",
      "\t\t\t\t\t\t 4.ACCOUNT DETAILS\n",
      "\t\t\t\t\t\t 5.LOG OUT\n",
      "\t\t\t\t--------------------------------------------\n"
     ]
    },
    {
     "name": "stdin",
     "output_type": "stream",
     "text": [
      "\t\t\tENTER YOUR CHOICE:- 5\n"
     ]
    },
    {
     "name": "stdout",
     "output_type": "stream",
     "text": [
      "\t\t\t\t--------------------------------------------\n",
      "\t\t\t\t\t\t THANK YOU\n",
      "\t\t\t\t--------------------------------------------\n",
      "\t\t\t\t WELCOME TO ONLINE RAILWAY RESEVATION SYSTEM\n",
      "\t\t\t\t--------------------------------------------\n",
      "\t\t\t\t\t\t1.SIGN IN\n",
      "\t\t\t\t\t\t2.SIGN UP\n",
      "\t\t\t\t\t\t3.EXIT\n",
      "\t\t\t\t--------------------------------------------\n",
      "____________________________________________________________________________________________________________________\n"
     ]
    },
    {
     "name": "stdin",
     "output_type": "stream",
     "text": [
      "\t\t\tENTER YOUR CHOICE:- 3\n"
     ]
    },
    {
     "name": "stdout",
     "output_type": "stream",
     "text": [
      "\t\t\t\t--------------------------------------------\n",
      "\t\t\t\t\t\t THANK YOU\n",
      "\t\t\t\t--------------------------------------------\n"
     ]
    }
   ],
   "source": [
    "print(\"______________________________________________________________________________________________________________________\")\n",
    "while True:\n",
    "    print(\"\\t\\t\\t\\t WELCOME TO ONLINE RAILWAY RESEVATION SYSTEM\")\n",
    "    print(\"\\t\\t\\t\\t--------------------------------------------\")\n",
    "    print(\"\\t\\t\\t\\t\\t\\t1.SIGN IN\")\n",
    "    print(\"\\t\\t\\t\\t\\t\\t2.SIGN UP\")\n",
    "    print(\"\\t\\t\\t\\t\\t\\t3.EXIT\")\n",
    "    print(\"\\t\\t\\t\\t--------------------------------------------\")\n",
    "    print(\"____________________________________________________________________________________________________________________\")\n",
    "\n",
    "    ch = int(input(\"\\t\\t\\tENTER YOUR CHOICE:-\"))\n",
    "    if ch==1:\n",
    "        signin()\n",
    "\n",
    "    elif ch==2:\n",
    "        signup()\n",
    "    \n",
    "    elif ch==3:\n",
    "        print(\"\\t\\t\\t\\t--------------------------------------------\")\n",
    "        print(\"\\t\\t\\t\\t\\t\\t THANK YOU\")\n",
    "        print(\"\\t\\t\\t\\t--------------------------------------------\")\n",
    "        break\n",
    "    else:\n",
    "        print(\"ERROR 404: PAGE NOT FOUND\")\n",
    "        break"
   ]
  },
  {
   "cell_type": "code",
   "execution_count": null,
   "id": "a4114b94-fdd5-4807-a241-dad9f9eba25f",
   "metadata": {},
   "outputs": [],
   "source": []
  }
 ],
 "metadata": {
  "kernelspec": {
   "display_name": "Python 3 (ipykernel)",
   "language": "python",
   "name": "python3"
  },
  "language_info": {
   "codemirror_mode": {
    "name": "ipython",
    "version": 3
   },
   "file_extension": ".py",
   "mimetype": "text/x-python",
   "name": "python",
   "nbconvert_exporter": "python",
   "pygments_lexer": "ipython3",
   "version": "3.11.7"
  }
 },
 "nbformat": 4,
 "nbformat_minor": 5
}
